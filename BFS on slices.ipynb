{
 "cells": [
  {
   "cell_type": "code",
   "execution_count": null,
   "metadata": {},
   "outputs": [],
   "source": [
    "## We Analyze Scans of Arteries and Tumors\n",
    "## We aim to classify, if there exists a 2d slice of the 3d scan where the tumor encloses the arterie completely\n",
    "## The scans contain one tumor and two arteries\n"
   ]
  },
  {
   "cell_type": "code",
   "execution_count": 75,
   "metadata": {},
   "outputs": [],
   "source": [
    "import os\n",
    "import numpy as np\n",
    "import queue\n",
    "import time\n",
    "# uncomment the next line if you haven't worked with nibabel yet\n",
    "#!pip install nibabel\n",
    "from nibabel.testing import data_path\n",
    "import nibabel as nib\n"
   ]
  },
  {
   "cell_type": "code",
   "execution_count": 115,
   "metadata": {},
   "outputs": [],
   "source": [
    "## Loading Data: \n",
    "## 0 = neither, 1 = Tumor, 2 = right arterie, 3 = left arterie\n",
    "data = nib.load('009_pre_seg.nii').get_fdata()"
   ]
  },
  {
   "cell_type": "code",
   "execution_count": 116,
   "metadata": {},
   "outputs": [],
   "source": [
    "## Tuple add, this should exist somewhere as a lib function, but ill write it anyway\n",
    "def my_add(xs, ys):\n",
    "    return (xs[0] + ys[0],xs[1]+ys[1])\n",
    "\n",
    "def good_tuple(xs):\n",
    "    x = xs[0]\n",
    "    y = xs[1]\n",
    "    if x >= 0 and x < 256 and y >= 0 and y < 256:\n",
    "        return True\n",
    "    return False"
   ]
  },
  {
   "cell_type": "code",
   "execution_count": 117,
   "metadata": {},
   "outputs": [],
   "source": [
    "## This function outputs true if the tumor encloses the artery completely on this slice!\n",
    "neighbours = [(1,0),(0,1),(-1,0),(0,-1),(1,1),(1,-1),(-1,-1),(-1,1)]\n",
    "def check_Tumor(arterie_num, slice):\n",
    "    Flag = False ## Check Flag if Tumor exists on this slice\n",
    "    ##slice[0,0] = arterie_num\n",
    "    q = queue.Queue() ## create queue for bfs\n",
    "    ## put every artery bit onto the queue!\n",
    "    for i in range(0,slice.shape[0]):\n",
    "        for j in range(0,slice.shape[1]):\n",
    "            if slice[i,j] == arterie_num:\n",
    "                q.put((i,j))\n",
    "            if slice[i,j] == 1:\n",
    "                Flag = True\n",
    "    ## If Flag = False here, then there is no tumor on this slice therefore it can't enclose the artery!\n",
    "    if not Flag:\n",
    "        return (False,False)\n",
    "    ## Do BFS to \"grow\" artery\n",
    "    while q.qsize() > 0:\n",
    "        current_idx = q.get()\n",
    "        ## now check all neighbours\n",
    "        for nex in neighbours:\n",
    "            neigh = my_add(current_idx,nex)\n",
    "            if good_tuple(neigh) and slice[neigh] == 0:\n",
    "                slice[neigh] = arterie_num\n",
    "                q.put(neigh)\n",
    "    ## We now check whether there exists a way for the grown artery to touch the border\n",
    "    ## If that were the case, then the virus does not enclose the artery on that slice\n",
    "    N = 256\n",
    "    for idx in range(0,N):\n",
    "        if slice[0,idx] == arterie_num or slice[N-1,idx] == arterie_num or slice[idx,0] == arterie_num or slice[idx,N-1] == arterie_num:\n",
    "                return (False,Flag)\n",
    "    return (True,Flag)\n",
    "        \n",
    "    "
   ]
  },
  {
   "cell_type": "code",
   "execution_count": 118,
   "metadata": {},
   "outputs": [
    {
     "name": "stdout",
     "output_type": "stream",
     "text": [
      "on Slice: 114 the tumor encloses the right artery completely!\n",
      "on Slice: 115 the tumor encloses the right artery completely!\n",
      "on Slice: 116 the tumor encloses the right artery completely!\n",
      "on Slice: 117 the tumor encloses the right artery completely!\n",
      "on Slice: 118 the tumor encloses the right artery completely!\n",
      "on Slice: 119 the tumor encloses the right artery completely!\n",
      "on Slice: 119 the tumor encloses the left artery completely!\n",
      "on Slice: 120 the tumor encloses the right artery completely!\n",
      "on Slice: 120 the tumor encloses the left artery completely!\n",
      "on Slice: 121 the tumor encloses the right artery completely!\n",
      "on Slice: 121 the tumor encloses the left artery completely!\n",
      "on Slice: 122 the tumor encloses the right artery completely!\n",
      "on Slice: 122 the tumor encloses the left artery completely!\n",
      "on Slice: 123 the tumor encloses the right artery completely!\n",
      "on Slice: 123 the tumor encloses the left artery completely!\n",
      "on Slice: 124 the tumor encloses the right artery completely!\n",
      "on Slice: 124 the tumor encloses the left artery completely!\n",
      "on Slice: 125 the tumor encloses the right artery completely!\n",
      "on Slice: 125 the tumor encloses the left artery completely!\n",
      "on Slice: 126 the tumor encloses the right artery completely!\n",
      "on Slice: 126 the tumor encloses the left artery completely!\n",
      "on Slice: 127 the tumor encloses the right artery completely!\n",
      "on Slice: 127 the tumor encloses the left artery completely!\n",
      "on Slice: 128 the tumor encloses the right artery completely!\n",
      "on Slice: 128 the tumor encloses the left artery completely!\n",
      "on Slice: 129 the tumor encloses the right artery completely!\n",
      "on Slice: 129 the tumor encloses the left artery completely!\n",
      "on Slice: 130 the tumor encloses the right artery completely!\n",
      "on Slice: 130 the tumor encloses the left artery completely!\n",
      "on Slice: 131 the tumor encloses the right artery completely!\n",
      "on Slice: 131 the tumor encloses the left artery completely!\n",
      "on Slice: 132 the tumor encloses the right artery completely!\n",
      "on Slice: 132 the tumor encloses the left artery completely!\n",
      "on Slice: 133 the tumor encloses the right artery completely!\n",
      "on Slice: 133 the tumor encloses the left artery completely!\n",
      "on Slice: 134 the tumor encloses the right artery completely!\n",
      "on Slice: 134 the tumor encloses the left artery completely!\n",
      "on Slice: 135 the tumor encloses the left artery completely!\n",
      "This procedure took: 41.89710092544556\n"
     ]
    }
   ],
   "source": [
    "start = time.time()\n",
    "slice_num = 0\n",
    "\n",
    "for cur_slice in data: ## I assume this loops through the z axis, not sure tho!\n",
    "    enclosed_right = check_Tumor(2, cur_slice.copy()) ## check right arterie\n",
    "    enclosed_left = check_Tumor(3, cur_slice.copy()) ## check left arterie\n",
    "    if enclosed_right[0] and enclosed_right[1]:\n",
    "        print(\"on Slice: \" + str(slice_num) + \" the tumor encloses the right artery completely!\")\n",
    "    if enclosed_left[0] and enclosed_left[1]:\n",
    "        print(\"on Slice: \" + str(slice_num) + \" the tumor encloses the left artery completely!\")\n",
    "    slice_num = slice_num + 1\n",
    "end = time.time()\n",
    "print(\"This procedure took: \" + str(end-start))"
   ]
  },
  {
   "cell_type": "code",
   "execution_count": null,
   "metadata": {},
   "outputs": [],
   "source": [
    "\n",
    "    "
   ]
  },
  {
   "cell_type": "code",
   "execution_count": null,
   "metadata": {},
   "outputs": [],
   "source": []
  }
 ],
 "metadata": {
  "kernelspec": {
   "display_name": "Python 3",
   "language": "python",
   "name": "python3"
  },
  "language_info": {
   "codemirror_mode": {
    "name": "ipython",
    "version": 3
   },
   "file_extension": ".py",
   "mimetype": "text/x-python",
   "name": "python",
   "nbconvert_exporter": "python",
   "pygments_lexer": "ipython3",
   "version": "3.8.3"
  }
 },
 "nbformat": 4,
 "nbformat_minor": 4
}
